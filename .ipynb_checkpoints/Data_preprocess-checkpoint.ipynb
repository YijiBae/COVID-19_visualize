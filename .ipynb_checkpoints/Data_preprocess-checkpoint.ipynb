{
 "cells": [
  {
   "cell_type": "markdown",
   "metadata": {},
   "source": [
    "# 데이터 전처리\n",
    "\n",
    "\n",
    "## 1) 좌표 변환\n",
    "\n",
    "KATEC => GEO \n",
    "\n",
    "* KT 유동인구 데이터는 KATEC 좌표계를 사용하기에 일반 좌표계로 변환이 필요하다.\n",
    "* 좌표변환을 위해 GeoConverter.py를 https://github.com/wan2land/python-geo-converter 의 코드를 참조했다."
   ]
  },
  {
   "cell_type": "code",
   "execution_count": 4,
   "metadata": {},
   "outputs": [],
   "source": [
    "# 필요한 라이브러리 호출\n",
    "import pandas as pd\n",
    "import GeoConverter"
   ]
  },
  {
   "cell_type": "code",
   "execution_count": 3,
   "metadata": {},
   "outputs": [],
   "source": [
    "df_2019 = pd.read_csv(\"data/CHEONAN_201903_201904.csv\")\n",
    "df_2020 = pd.read_csv(\"data/CHEONAN_202003_202004.csv\")"
   ]
  },
  {
   "cell_type": "code",
   "execution_count": 7,
   "metadata": {},
   "outputs": [],
   "source": [
    "def convert_geo(df):\n",
    "    location = []\n",
    "    for i in range(len(df)):\n",
    "        lists = []\n",
    "        pt = GeoConverter.GeoPoint(df.iloc[i].iloc[1], df.iloc[i].iloc[2])\n",
    "        output = GeoConverter.convert(GeoConverter.KATEC, GeoConverter.GEO, pt)\n",
    "        lists.append(output.getY())\n",
    "        lists.append(output.getX())\n",
    "        location.append(lists)\n",
    "    return location"
   ]
  },
  {
   "cell_type": "code",
   "execution_count": 8,
   "metadata": {},
   "outputs": [
    {
     "ename": "KeyboardInterrupt",
     "evalue": "",
     "output_type": "error",
     "traceback": [
      "\u001b[1;31m---------------------------------------------------------------------------\u001b[0m",
      "\u001b[1;31mKeyboardInterrupt\u001b[0m                         Traceback (most recent call last)",
      "\u001b[1;32m<ipython-input-8-cad201a70803>\u001b[0m in \u001b[0;36m<module>\u001b[1;34m\u001b[0m\n\u001b[0;32m      1\u001b[0m \u001b[0mlocation_2019\u001b[0m \u001b[1;33m=\u001b[0m \u001b[0mconvert_geo\u001b[0m\u001b[1;33m(\u001b[0m\u001b[0mdf_2019\u001b[0m\u001b[1;33m)\u001b[0m\u001b[1;33m\u001b[0m\u001b[0m\n\u001b[1;32m----> 2\u001b[1;33m \u001b[0mlocation_2020\u001b[0m \u001b[1;33m=\u001b[0m \u001b[0mconvert_geo\u001b[0m\u001b[1;33m(\u001b[0m\u001b[0mdf_2020\u001b[0m\u001b[1;33m)\u001b[0m\u001b[1;33m\u001b[0m\u001b[0m\n\u001b[0m",
      "\u001b[1;32m<ipython-input-7-ff8ec614cc56>\u001b[0m in \u001b[0;36mconvert_geo\u001b[1;34m(df)\u001b[0m\n\u001b[0;32m      4\u001b[0m         \u001b[0mlists\u001b[0m \u001b[1;33m=\u001b[0m \u001b[1;33m[\u001b[0m\u001b[1;33m]\u001b[0m\u001b[1;33m\u001b[0m\u001b[0m\n\u001b[0;32m      5\u001b[0m         \u001b[0mpt\u001b[0m \u001b[1;33m=\u001b[0m \u001b[0mGeoConverter\u001b[0m\u001b[1;33m.\u001b[0m\u001b[0mGeoPoint\u001b[0m\u001b[1;33m(\u001b[0m\u001b[0mdf\u001b[0m\u001b[1;33m.\u001b[0m\u001b[0miloc\u001b[0m\u001b[1;33m[\u001b[0m\u001b[0mi\u001b[0m\u001b[1;33m]\u001b[0m\u001b[1;33m.\u001b[0m\u001b[0miloc\u001b[0m\u001b[1;33m[\u001b[0m\u001b[1;36m1\u001b[0m\u001b[1;33m]\u001b[0m\u001b[1;33m,\u001b[0m \u001b[0mdf\u001b[0m\u001b[1;33m.\u001b[0m\u001b[0miloc\u001b[0m\u001b[1;33m[\u001b[0m\u001b[0mi\u001b[0m\u001b[1;33m]\u001b[0m\u001b[1;33m.\u001b[0m\u001b[0miloc\u001b[0m\u001b[1;33m[\u001b[0m\u001b[1;36m2\u001b[0m\u001b[1;33m]\u001b[0m\u001b[1;33m)\u001b[0m\u001b[1;33m\u001b[0m\u001b[0m\n\u001b[1;32m----> 6\u001b[1;33m         \u001b[0moutput\u001b[0m \u001b[1;33m=\u001b[0m \u001b[0mGeoConverter\u001b[0m\u001b[1;33m.\u001b[0m\u001b[0mconvert\u001b[0m\u001b[1;33m(\u001b[0m\u001b[0mGeoConverter\u001b[0m\u001b[1;33m.\u001b[0m\u001b[0mKATEC\u001b[0m\u001b[1;33m,\u001b[0m \u001b[0mGeoConverter\u001b[0m\u001b[1;33m.\u001b[0m\u001b[0mGEO\u001b[0m\u001b[1;33m,\u001b[0m \u001b[0mpt\u001b[0m\u001b[1;33m)\u001b[0m\u001b[1;33m\u001b[0m\u001b[0m\n\u001b[0m\u001b[0;32m      7\u001b[0m         \u001b[0mlists\u001b[0m\u001b[1;33m.\u001b[0m\u001b[0mappend\u001b[0m\u001b[1;33m(\u001b[0m\u001b[0moutput\u001b[0m\u001b[1;33m.\u001b[0m\u001b[0mgetY\u001b[0m\u001b[1;33m(\u001b[0m\u001b[1;33m)\u001b[0m\u001b[1;33m)\u001b[0m\u001b[1;33m\u001b[0m\u001b[0m\n\u001b[0;32m      8\u001b[0m         \u001b[0mlists\u001b[0m\u001b[1;33m.\u001b[0m\u001b[0mappend\u001b[0m\u001b[1;33m(\u001b[0m\u001b[0moutput\u001b[0m\u001b[1;33m.\u001b[0m\u001b[0mgetX\u001b[0m\u001b[1;33m(\u001b[0m\u001b[1;33m)\u001b[0m\u001b[1;33m)\u001b[0m\u001b[1;33m\u001b[0m\u001b[0m\n",
      "\u001b[1;32mD:\\2020-2\\데이터사이언스및시각화\\project\\GeoConverter.py\u001b[0m in \u001b[0;36mconvert\u001b[1;34m(srctype, dsttype, in_pt)\u001b[0m\n\u001b[0;32m    127\u001b[0m \u001b[1;33m\u001b[0m\u001b[0m\n\u001b[0;32m    128\u001b[0m         \u001b[1;32melse\u001b[0m \u001b[1;33m:\u001b[0m\u001b[1;33m\u001b[0m\u001b[0m\n\u001b[1;32m--> 129\u001b[1;33m                 \u001b[0mtm2geo\u001b[0m\u001b[1;33m(\u001b[0m\u001b[0msrctype\u001b[0m\u001b[1;33m,\u001b[0m \u001b[0min_pt\u001b[0m\u001b[1;33m,\u001b[0m \u001b[0mtmpPt\u001b[0m\u001b[1;33m)\u001b[0m\u001b[1;33m\u001b[0m\u001b[0m\n\u001b[0m\u001b[0;32m    130\u001b[0m \u001b[1;33m\u001b[0m\u001b[0m\n\u001b[0;32m    131\u001b[0m         \u001b[1;32mif\u001b[0m \u001b[1;33m(\u001b[0m\u001b[0mdsttype\u001b[0m \u001b[1;33m==\u001b[0m \u001b[0mGEO\u001b[0m\u001b[1;33m)\u001b[0m \u001b[1;33m:\u001b[0m\u001b[1;33m\u001b[0m\u001b[0m\n",
      "\u001b[1;32mD:\\2020-2\\데이터사이언스및시각화\\project\\GeoConverter.py\u001b[0m in \u001b[0;36mtm2geo\u001b[1;34m(srctype, in_pt, out_pt)\u001b[0m\n\u001b[0;32m    198\u001b[0m         \u001b[0mtmpPt\u001b[0m\u001b[1;33m.\u001b[0m\u001b[0msetY\u001b[0m\u001b[1;33m(\u001b[0m \u001b[0mtmpPt\u001b[0m\u001b[1;33m.\u001b[0m\u001b[0mgetY\u001b[0m\u001b[1;33m(\u001b[0m\u001b[1;33m)\u001b[0m \u001b[1;33m-\u001b[0m \u001b[0mm_arFalseNorthing\u001b[0m\u001b[1;33m[\u001b[0m\u001b[0msrctype\u001b[0m\u001b[1;33m]\u001b[0m \u001b[1;33m)\u001b[0m\u001b[1;33m\u001b[0m\u001b[0m\n\u001b[0;32m    199\u001b[0m \u001b[1;33m\u001b[0m\u001b[0m\n\u001b[1;32m--> 200\u001b[1;33m         \u001b[0mcon\u001b[0m \u001b[1;33m=\u001b[0m \u001b[1;33m(\u001b[0m\u001b[0msrc_m\u001b[0m\u001b[1;33m[\u001b[0m\u001b[0msrctype\u001b[0m\u001b[1;33m]\u001b[0m \u001b[1;33m+\u001b[0m \u001b[0mtmpPt\u001b[0m\u001b[1;33m.\u001b[0m\u001b[0mgetY\u001b[0m\u001b[1;33m(\u001b[0m\u001b[1;33m)\u001b[0m \u001b[1;33m/\u001b[0m \u001b[0mm_arScaleFactor\u001b[0m\u001b[1;33m[\u001b[0m\u001b[0msrctype\u001b[0m\u001b[1;33m]\u001b[0m\u001b[1;33m)\u001b[0m \u001b[1;33m/\u001b[0m \u001b[0mm_arMajor\u001b[0m\u001b[1;33m[\u001b[0m\u001b[0msrctype\u001b[0m\u001b[1;33m]\u001b[0m\u001b[1;33m\u001b[0m\u001b[0m\n\u001b[0m\u001b[0;32m    201\u001b[0m         \u001b[0mphi\u001b[0m \u001b[1;33m=\u001b[0m \u001b[0mcon\u001b[0m\u001b[1;33m\u001b[0m\u001b[0m\n\u001b[0;32m    202\u001b[0m \u001b[1;33m\u001b[0m\u001b[0m\n",
      "\u001b[1;31mKeyboardInterrupt\u001b[0m: "
     ]
    }
   ],
   "source": [
    "location_2019 = convert_geo(df_2019)\n",
    "location_2020 = convert_geo(df_2020)"
   ]
  },
  {
   "cell_type": "code",
   "execution_count": 44,
   "metadata": {},
   "outputs": [
    {
     "data": {
      "text/plain": [
       "[[36.796231819970856, 127.09576965100713]]"
      ]
     },
     "execution_count": 44,
     "metadata": {},
     "output_type": "execute_result"
    }
   ],
   "source": [
    "# 2019\n",
    "final_df_2019 = pd.DataFrame(location_2019, columns = [\"위도\", \"경도\"])\n",
    "real_final_2019 = pd.merge(df_2019, final_df_2019, how = \"outer\", left_index = True, right_index = True)\n",
    "real_final_2019.to_csv(\"final_dataset_2019.csv\", index=False) \n",
    "# 2020\n",
    "final_df_2020 = pd.DataFrame(location_2020, columns = [\"위도\", \"경도\"])\n",
    "real_final_2020 = pd.merge(df_2020, final_df_2020, how = \"outer\", left_index = True, right_index = True)\n",
    "real_final_2020.to_csv(\"final_dataset_2020.csv\", index=False) "
   ]
  },
  {
   "cell_type": "markdown",
   "metadata": {},
   "source": [
    "## 2) 시간대 조절\n",
    "\n",
    "* 천안시 유동인구 데이터가 2020년 03월부터 2020년 04월까지의 데이터이다.\n",
    "* PatientInfo.csv 데이터는 특정 날짜에 발생한 확진자의 정보를 가지고 있는 데이터이다.\n",
    "\n",
    "|patient_id|global_num|sex|birth_year|age|country|province|city|disease|infection_case|infection_order|infection_order|infected_by|contact_number|symptom_onset_date|confirmed_date|released_date|deceased_date|state|\n",
    "|----------|----------|---|----------|---|-------|--------|----|-------|--------------|---------------|---------------|-----------|--------------|------------------|--------------|-------------|-------------|-----|\n",
    "|1000000001|2|male|1964|50s|Korea|Seoul|Gangseo-gu|overseas|inflow|1|\t\t||75|2020-01-22|2020-01-23|2020-02-05||released|\n",
    "\n",
    "* Weather.csv 데이터는 특정 날짜의 날씨 정보\n",
    "\n",
    "|code|province|date|avg_temp|min_temp|max_temp|precipitation|max_wind_speed|most_wind_direction|avg_relative_humidity|\n",
    "|-----|-----|-----|-----|-----|-----|-----|-----|-----|-----|\n",
    "|10000|Seoul|2016-01-01|1.2|-3.3|4|0|3.5|90|73|\n",
    "\n",
    "**PatientInfo.csv와  Weather.csv에서 city를 천안시로 한정하고 confirmed_date를 03월에서 04로 한정해 데이터셋를 만든다.**"
   ]
  },
  {
   "cell_type": "code",
   "execution_count": null,
   "metadata": {},
   "outputs": [],
   "source": [
    "patientInfo = pd.read_csv(\"data/patientInfo.csv\")\n",
    "weather = pd.read_csv(\"data/Weather.csv\")"
   ]
  },
  {
   "cell_type": "code",
   "execution_count": null,
   "metadata": {},
   "outputs": [],
   "source": [
    "# 날짜 충족\n",
    "patientInfo = patientInfo[patientInfo['citiy'] == \"Cheonan-si\"]\n",
    "patientInfo = patientInfo[patientInfo['confirmed_date'] >= \"2020-03-01\" and patientInfo['confirmed_date'] <= \"2020-04-30\"]\n",
    "\n",
    "\n",
    "weather = weather[weather['city'] == \"Chungcheongnam-do\"]\n",
    "weather = weather[(weather['date'] >= \"2020-03-01\" and weather['date'] <= \"2020-04-30\") or (weather['date'] >= \"2019-03-01\" and weather['date'] <= \"2019-04-30\") ]"
   ]
  },
  {
   "cell_type": "code",
   "execution_count": null,
   "metadata": {},
   "outputs": [],
   "source": [
    "patientInf.to_csv(\"data/patientInfo.csv\")\n",
    "weather.to_csv(\"data/Weather.csv\")"
   ]
  },
  {
   "cell_type": "markdown",
   "metadata": {},
   "source": [
    "# 3) 요일 변동"
   ]
  },
  {
   "cell_type": "code",
   "execution_count": null,
   "metadata": {},
   "outputs": [],
   "source": [
    "# 1) 요일 변경\n",
    "import datetime\n",
    "from tqdm import tqdm_notebook\n",
    "\n",
    "def print_whichday(year, month, day) :\n",
    "    r = ['월요일', '화요일', '수요일', '목요일', '금요일', '토요일', '일요일']\n",
    "    aday = datetime.date(year, month, day)\n",
    "    bday = aday.weekday()\n",
    "    return r[bday]\n",
    "\n",
    "final_list_2019 = []\n",
    "for i in df_2019['etl_ymd']:\n",
    "    day_list = []\n",
    "    year = int(str(i)[:4])\n",
    "    month = int(str(i)[4:6])\n",
    "    day = int(str(i)[6:])\n",
    "    final_list_2019.append(print_whichday(year, month, day))\n",
    "\n",
    "final_list_2020 = []\n",
    "for i in df_2020['etl_ymd']:\n",
    "    day_list = []\n",
    "    year = int(str(i)[:4])\n",
    "    month = int(str(i)[4:6])\n",
    "    day = int(str(i)[6:])\n",
    "    final_list_2020.append(print_whichday(year, month, day))\n",
    "    \n",
    "df_2019.to_csv(\"D:\\\\2020-2\\\\데이터사이언스및시각화\\\\project\\\\data\\\\2019_with_day.csv\")\n",
    "df_2020.to_csv(\"D:\\\\2020-2\\\\데이터사이언스및시각화\\\\project\\\\data\\\\2020_with_day.csv\")"
   ]
  }
 ],
 "metadata": {
  "kernelspec": {
   "display_name": "Python 3",
   "language": "python",
   "name": "python3"
  },
  "language_info": {
   "codemirror_mode": {
    "name": "ipython",
    "version": 3
   },
   "file_extension": ".py",
   "mimetype": "text/x-python",
   "name": "python",
   "nbconvert_exporter": "python",
   "pygments_lexer": "ipython3",
   "version": "3.6.5"
  }
 },
 "nbformat": 4,
 "nbformat_minor": 4
}
